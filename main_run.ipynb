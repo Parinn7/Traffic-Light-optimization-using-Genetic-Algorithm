{
 "cells": [
  {
   "cell_type": "code",
   "execution_count": 1,
   "id": "c08c03d5",
   "metadata": {
    "ExecuteTime": {
     "end_time": "2022-03-27T06:34:58.228973Z",
     "start_time": "2022-03-27T06:34:57.287625Z"
    }
   },
   "outputs": [
    {
     "name": "stdout",
     "output_type": "stream",
     "text": [
      "(b'<configuration><input><net-file value=\"Manhattan5x3.net.xml\" /><route-files '\n",
      " b'value=\"Manhattan5x3.rou.xml\" /></input><time><begin value=\"0\" /><end value=\"'\n",
      " b'200\" /></time><time-to-teleport value=\"-1\" /></configuration>')\n"
     ]
    }
   ],
   "source": [
    "\n",
    "import wandb\n",
    "from sumolib import checkBinary\n",
    "import Genetic_Algorithm as GA\n",
    "import Simulation_Generator as sg\n",
    "import numpy as np"
   ]
  },
  {
   "cell_type": "code",
   "execution_count": 2,
   "id": "02defebf",
   "metadata": {},
   "outputs": [
    {
     "name": "stderr",
     "output_type": "stream",
     "text": [
      "\u001b[34m\u001b[1mwandb\u001b[0m: Using wandb-core as the SDK backend.  Please refer to https://wandb.me/wandb-core for more information.\n",
      "\u001b[34m\u001b[1mwandb\u001b[0m: Currently logged in as: \u001b[33mparin-p\u001b[0m (\u001b[33mparin-p-ahmedabad-university\u001b[0m) to \u001b[32mhttps://api.wandb.ai\u001b[0m. Use \u001b[1m`wandb login --relogin`\u001b[0m to force relogin\n"
     ]
    },
    {
     "data": {
      "text/html": [
       "creating run (0.3s)"
      ],
      "text/plain": [
       "<IPython.core.display.HTML object>"
      ]
     },
     "metadata": {},
     "output_type": "display_data"
    },
    {
     "data": {
      "text/html": [
       "Tracking run with wandb version 0.19.8"
      ],
      "text/plain": [
       "<IPython.core.display.HTML object>"
      ]
     },
     "metadata": {},
     "output_type": "display_data"
    },
    {
     "data": {
      "text/html": [
       "Run data is saved locally in <code>c:\\Users\\Akshat Kothari\\Desktop\\Traffic-Lights-Genetic-Algorithm-main (2)\\Traffic-Lights-Genetic-Algorithm-main\\Traffic-Lights-Genetic-Algorithm-main\\wandb\\run-20250401_132828-pg8c3hgv</code>"
      ],
      "text/plain": [
       "<IPython.core.display.HTML object>"
      ]
     },
     "metadata": {},
     "output_type": "display_data"
    },
    {
     "data": {
      "text/html": [
       "Syncing run <strong><a href='https://wandb.ai/parin-p-ahmedabad-university/Manhattan%205x3%20Genetic%20Algorithm/runs/pg8c3hgv' target=\"_blank\">super-lion-13</a></strong> to <a href='https://wandb.ai/parin-p-ahmedabad-university/Manhattan%205x3%20Genetic%20Algorithm' target=\"_blank\">Weights & Biases</a> (<a href='https://wandb.me/developer-guide' target=\"_blank\">docs</a>)<br>"
      ],
      "text/plain": [
       "<IPython.core.display.HTML object>"
      ]
     },
     "metadata": {},
     "output_type": "display_data"
    },
    {
     "data": {
      "text/html": [
       " View project at <a href='https://wandb.ai/parin-p-ahmedabad-university/Manhattan%205x3%20Genetic%20Algorithm' target=\"_blank\">https://wandb.ai/parin-p-ahmedabad-university/Manhattan%205x3%20Genetic%20Algorithm</a>"
      ],
      "text/plain": [
       "<IPython.core.display.HTML object>"
      ]
     },
     "metadata": {},
     "output_type": "display_data"
    },
    {
     "data": {
      "text/html": [
       " View run at <a href='https://wandb.ai/parin-p-ahmedabad-university/Manhattan%205x3%20Genetic%20Algorithm/runs/pg8c3hgv' target=\"_blank\">https://wandb.ai/parin-p-ahmedabad-university/Manhattan%205x3%20Genetic%20Algorithm/runs/pg8c3hgv</a>"
      ],
      "text/plain": [
       "<IPython.core.display.HTML object>"
      ]
     },
     "metadata": {},
     "output_type": "display_data"
    },
    {
     "data": {
      "text/html": [
       "<button onClick=\"this.nextSibling.style.display='block';this.style.display='none';\">Display W&B run</button><iframe src='https://wandb.ai/parin-p-ahmedabad-university/Manhattan%205x3%20Genetic%20Algorithm/runs/pg8c3hgv?jupyter=true' style='border:none;width:100%;height:420px;display:none;'></iframe>"
      ],
      "text/plain": [
       "<wandb.sdk.wandb_run.Run at 0x152ffe71160>"
      ]
     },
     "execution_count": 2,
     "metadata": {},
     "output_type": "execute_result"
    }
   ],
   "source": [
    "wandb.init(project=\"Manhattan 5x3 Genetic Algorithm\", entity=\"parin-p-ahmedabad-university\")"
   ]
  },
  {
   "cell_type": "code",
   "execution_count": 3,
   "id": "0e68dfe8",
   "metadata": {
    "ExecuteTime": {
     "end_time": "2022-03-28T09:29:03.474215Z",
     "start_time": "2022-03-27T06:34:58.228973Z"
    },
    "collapsed": true
   },
   "outputs": [
    {
     "name": "stdout",
     "output_type": "stream",
     "text": [
      "SUMO launched: Collecting Traffic Lights\n",
      "<traci.connection.Connection object at 0x00000152FFDBACF0>\n",
      "Generation: 0  Individual:  0\n",
      "SUMO launched\n",
      "<traci.connection.Connection object at 0x00000152FFEC82D0>\n",
      "Generation: 0  Individual:  1\n",
      "SUMO launched\n",
      "<traci.connection.Connection object at 0x00000152FFECA350>\n",
      "Generation: 0  Individual:  2\n",
      "SUMO launched\n",
      "<traci.connection.Connection object at 0x00000152FFECA490>\n",
      "Generation: 0  Individual:  3\n",
      "SUMO launched\n",
      "<traci.connection.Connection object at 0x00000152FFECA5D0>\n",
      "Generation: 0  Individual:  4\n",
      "SUMO launched\n",
      "<traci.connection.Connection object at 0x00000152FFECA710>\n",
      "Generation: 0  Individual:  5\n",
      "SUMO launched\n",
      "<traci.connection.Connection object at 0x00000152FFECA850>\n",
      "Generation: 0  Individual:  6\n",
      "SUMO launched\n",
      "<traci.connection.Connection object at 0x00000152FFECA990>\n",
      "Generation: 0  Individual:  7\n",
      "SUMO launched\n",
      "<traci.connection.Connection object at 0x00000152FFECAC10>\n",
      "Generation: 0  Individual:  8\n",
      "SUMO launched\n",
      "<traci.connection.Connection object at 0x00000152FFECAD50>\n",
      "Generation: 0  Individual:  9\n",
      "SUMO launched\n",
      "<traci.connection.Connection object at 0x00000152FFECAE90>\n",
      "Generation: 0  Individual:  10\n",
      "SUMO launched\n",
      "<traci.connection.Connection object at 0x00000152FFECAFD0>\n",
      "Generation: 0  Individual:  11\n",
      "SUMO launched\n",
      "<traci.connection.Connection object at 0x00000152FFECB110>\n",
      "Generation: 0  Individual:  12\n",
      "SUMO launched\n",
      "<traci.connection.Connection object at 0x00000152FFECB250>\n",
      "Generation: 0  Individual:  13\n",
      "SUMO launched\n",
      "<traci.connection.Connection object at 0x00000152FFECB390>\n",
      "Generation: 0  Individual:  14\n",
      "SUMO launched\n",
      "<traci.connection.Connection object at 0x00000152FFECB250>\n",
      "Best Fitness value in Generation  0  is  8853281193\n",
      "Logging info to WandB\n",
      "Generation: 1  Individual:  0\n",
      "SUMO launched\n",
      "<traci.connection.Connection object at 0x00000152FFECAE90>\n",
      "Generation: 1  Individual:  1\n",
      "SUMO launched\n",
      "<traci.connection.Connection object at 0x00000152FFECAD50>\n",
      "Generation: 1  Individual:  2\n",
      "SUMO launched\n",
      "<traci.connection.Connection object at 0x00000152FFECAC10>\n",
      "Generation: 1  Individual:  3\n",
      "SUMO launched\n",
      "<traci.connection.Connection object at 0x00000152FFECA850>\n",
      "Generation: 1  Individual:  4\n",
      "SUMO launched\n",
      "<traci.connection.Connection object at 0x00000152FFECA710>\n",
      "Best Fitness value in Generation  1  is  8853269636\n",
      "Logging info to WandB\n",
      "Generation: 2  Individual:  0\n",
      "SUMO launched\n",
      "<traci.connection.Connection object at 0x00000152FFECAFD0>\n",
      "Generation: 2  Individual:  1\n",
      "SUMO launched\n",
      "<traci.connection.Connection object at 0x00000152FFECA350>\n",
      "Generation: 2  Individual:  2\n",
      "SUMO launched\n",
      "<traci.connection.Connection object at 0x00000152FFEC82D0>\n",
      "Generation: 2  Individual:  3\n",
      "SUMO launched\n",
      "<traci.connection.Connection object at 0x00000152FFECA210>\n",
      "Generation: 2  Individual:  4\n",
      "SUMO launched\n",
      "<traci.connection.Connection object at 0x00000152FFECA0D0>\n",
      "Best Fitness value in Generation  2  is  8853269636\n",
      "Logging info to WandB\n",
      "Generation: 3  Individual:  0\n",
      "SUMO launched\n",
      "<traci.connection.Connection object at 0x00000152FFECA990>\n",
      "Generation: 3  Individual:  1\n",
      "SUMO launched\n",
      "<traci.connection.Connection object at 0x00000152FFEC9E50>\n",
      "Generation: 3  Individual:  2\n",
      "SUMO launched\n",
      "<traci.connection.Connection object at 0x00000152FFEC9D10>\n",
      "Generation: 3  Individual:  3\n",
      "SUMO launched\n",
      "<traci.connection.Connection object at 0x00000152FFEC9BD0>\n",
      "Generation: 3  Individual:  4\n",
      "SUMO launched\n",
      "<traci.connection.Connection object at 0x00000152FFEC9D10>\n",
      "Best Fitness value in Generation  3  is  8819515903\n",
      "Logging info to WandB\n",
      "Generation: 4  Individual:  0\n",
      "SUMO launched\n",
      "<traci.connection.Connection object at 0x00000152FFECA990>\n",
      "Generation: 4  Individual:  1\n",
      "SUMO launched\n",
      "<traci.connection.Connection object at 0x00000152FFEC9F90>\n",
      "Generation: 4  Individual:  2\n",
      "SUMO launched\n",
      "<traci.connection.Connection object at 0x00000152FFECA0D0>\n",
      "Generation: 4  Individual:  3\n",
      "SUMO launched\n",
      "<traci.connection.Connection object at 0x00000152FFECA210>\n",
      "Generation: 4  Individual:  4\n",
      "SUMO launched\n",
      "<traci.connection.Connection object at 0x00000152FFECA350>\n",
      "Best Fitness value in Generation  4  is  8819515903\n",
      "Logging info to WandB\n",
      "Generation: 5  Individual:  0\n",
      "SUMO launched\n",
      "<traci.connection.Connection object at 0x00000152FFECA5D0>\n",
      "Generation: 5  Individual:  1\n",
      "SUMO launched\n",
      "<traci.connection.Connection object at 0x00000152FFECA710>\n",
      "Generation: 5  Individual:  2\n",
      "SUMO launched\n",
      "<traci.connection.Connection object at 0x00000152FFECA850>\n",
      "Generation: 5  Individual:  3\n",
      "SUMO launched\n",
      "<traci.connection.Connection object at 0x00000152FFECAC10>\n",
      "Generation: 5  Individual:  4\n",
      "SUMO launched\n",
      "<traci.connection.Connection object at 0x00000152FFECAD50>\n",
      "Best Fitness value in Generation  5  is  8819515903\n",
      "Logging info to WandB\n",
      "Generation: 6  Individual:  0\n",
      "SUMO launched\n",
      "<traci.connection.Connection object at 0x00000152FFECAE90>\n",
      "Generation: 6  Individual:  1\n",
      "SUMO launched\n",
      "<traci.connection.Connection object at 0x00000152FFECB110>\n",
      "Generation: 6  Individual:  2\n",
      "SUMO launched\n",
      "<traci.connection.Connection object at 0x00000152FFECB250>\n",
      "Generation: 6  Individual:  3\n",
      "SUMO launched\n",
      "<traci.connection.Connection object at 0x00000152FFECAE90>\n",
      "Generation: 6  Individual:  4\n",
      "SUMO launched\n",
      "<traci.connection.Connection object at 0x00000152FFECAD50>\n",
      "Best Fitness value in Generation  6  is  8800260863\n",
      "Logging info to WandB\n"
     ]
    },
    {
     "data": {
      "text/html": [],
      "text/plain": [
       "<IPython.core.display.HTML object>"
      ]
     },
     "metadata": {},
     "output_type": "display_data"
    },
    {
     "data": {
      "text/html": [
       "<br>    <style><br>        .wandb-row {<br>            display: flex;<br>            flex-direction: row;<br>            flex-wrap: wrap;<br>            justify-content: flex-start;<br>            width: 100%;<br>        }<br>        .wandb-col {<br>            display: flex;<br>            flex-direction: column;<br>            flex-basis: 100%;<br>            flex: 1;<br>            padding: 10px;<br>        }<br>    </style><br><div class=\"wandb-row\"><div class=\"wandb-col\"><h3>Run history:</h3><br/><table class=\"wandb\"><tr><td>avg_emissions</td><td>█▃▄▁▂▁▁</td></tr><tr><td>avg_fitness</td><td>█▃▄▂▂▁▁</td></tr><tr><td>avg_waiting_time</td><td>█▃▃▁▁▁▁</td></tr><tr><td>best_emissions</td><td>███▅▅▄▁</td></tr><tr><td>best_fitness</td><td>███▄▄▄▁</td></tr><tr><td>best_waiting_time</td><td>█▇▇▇▇▂▁</td></tr></table><br/></div><div class=\"wandb-col\"><h3>Run summary:</h3><br/><table class=\"wandb\"><tr><td>avg_emissions</td><td>118903307.8</td></tr><tr><td>avg_fitness</td><td>8821677029.2</td></tr><tr><td>avg_waiting_time</td><td>346730</td></tr><tr><td>best_emissions</td><td>118466550</td></tr><tr><td>best_fitness</td><td>8800260863</td></tr><tr><td>best_waiting_time</td><td>341071</td></tr></table><br/></div></div>"
      ],
      "text/plain": [
       "<IPython.core.display.HTML object>"
      ]
     },
     "metadata": {},
     "output_type": "display_data"
    },
    {
     "data": {
      "text/html": [
       " View run <strong style=\"color:#cdcd00\">super-lion-13</strong> at: <a href='https://wandb.ai/parin-p-ahmedabad-university/Manhattan%205x3%20Genetic%20Algorithm/runs/pg8c3hgv' target=\"_blank\">https://wandb.ai/parin-p-ahmedabad-university/Manhattan%205x3%20Genetic%20Algorithm/runs/pg8c3hgv</a><br> View project at: <a href='https://wandb.ai/parin-p-ahmedabad-university/Manhattan%205x3%20Genetic%20Algorithm' target=\"_blank\">https://wandb.ai/parin-p-ahmedabad-university/Manhattan%205x3%20Genetic%20Algorithm</a><br>Synced 5 W&B file(s), 0 media file(s), 0 artifact file(s) and 0 other file(s)"
      ],
      "text/plain": [
       "<IPython.core.display.HTML object>"
      ]
     },
     "metadata": {},
     "output_type": "display_data"
    },
    {
     "data": {
      "text/html": [
       "Find logs at: <code>.\\wandb\\run-20250401_132828-pg8c3hgv\\logs</code>"
      ],
      "text/plain": [
       "<IPython.core.display.HTML object>"
      ]
     },
     "metadata": {},
     "output_type": "display_data"
    },
    {
     "data": {
      "text/html": [],
      "text/plain": [
       "<IPython.core.display.HTML object>"
      ]
     },
     "metadata": {},
     "output_type": "display_data"
    },
    {
     "ename": "CommError",
     "evalue": "failed to upsert bucket: returned error 404: {\"data\":{\"upsertBucket\":null},\"errors\":[{\"message\":\"project not found\",\"path\":[\"upsertBucket\"]}]}",
     "output_type": "error",
     "traceback": [
      "\u001b[31m---------------------------------------------------------------------------\u001b[39m",
      "\u001b[31mCommError\u001b[39m                                 Traceback (most recent call last)",
      "\u001b[36mCell\u001b[39m\u001b[36m \u001b[39m\u001b[32mIn[3]\u001b[39m\u001b[32m, line 28\u001b[39m\n\u001b[32m     25\u001b[39m total_runs = \u001b[32m2\u001b[39m\n\u001b[32m     26\u001b[39m \u001b[38;5;28;01mfor\u001b[39;00m run \u001b[38;5;129;01min\u001b[39;00m \u001b[38;5;28mrange\u001b[39m(total_runs):\n\u001b[32m     27\u001b[39m   \u001b[38;5;66;03m# 🐝 1️⃣ Start a new run to track this script\u001b[39;00m\n\u001b[32m---> \u001b[39m\u001b[32m28\u001b[39m     \u001b[43mwandb\u001b[49m\u001b[43m.\u001b[49m\u001b[43minit\u001b[49m\u001b[43m(\u001b[49m\n\u001b[32m     29\u001b[39m \u001b[43m      \u001b[49m\u001b[38;5;66;43;03m# Set the project where this run will be logged\u001b[39;49;00m\n\u001b[32m     30\u001b[39m \u001b[43m      \u001b[49m\u001b[43mproject\u001b[49m\u001b[43m=\u001b[49m\u001b[33;43m\"\u001b[39;49m\u001b[33;43mManhattan5x3_GA\u001b[39;49m\u001b[33;43m\"\u001b[39;49m\u001b[43m,\u001b[49m\u001b[43m \u001b[49m\n\u001b[32m     31\u001b[39m \u001b[43m      \u001b[49m\u001b[43mentity\u001b[49m\u001b[43m=\u001b[49m\u001b[33;43m\"\u001b[39;49m\u001b[33;43mdharma\u001b[39;49m\u001b[33;43m\"\u001b[39;49m\u001b[43m,\u001b[49m\n\u001b[32m     32\u001b[39m \u001b[43m      \u001b[49m\u001b[38;5;66;43;03m# We pass a run name (otherwise it’ll be randomly assigned, like sunshine-lollypop-10)\u001b[39;49;00m\n\u001b[32m     33\u001b[39m \u001b[43m      \u001b[49m\u001b[43mname\u001b[49m\u001b[43m=\u001b[49m\u001b[33;43mf\u001b[39;49m\u001b[33;43m\"\u001b[39;49m\u001b[33;43mGA_270321_\u001b[39;49m\u001b[38;5;132;43;01m{\u001b[39;49;00m\u001b[43mrun\u001b[49m\u001b[38;5;132;43;01m}\u001b[39;49;00m\u001b[33;43m\"\u001b[39;49m\u001b[43m,\u001b[49m\n\u001b[32m     34\u001b[39m \u001b[43m      \u001b[49m\u001b[38;5;66;43;03m# Track hyperparameters and run metadata\u001b[39;49;00m\n\u001b[32m     35\u001b[39m \u001b[43m      \u001b[49m\u001b[43mconfig\u001b[49m\u001b[43m=\u001b[49m\u001b[43m{\u001b[49m\n\u001b[32m     36\u001b[39m \u001b[43m        \u001b[49m\u001b[33;43m\"\u001b[39;49m\u001b[33;43mconfig_file\u001b[39;49m\u001b[33;43m\"\u001b[39;49m\u001b[43m:\u001b[49m\u001b[43mconfig_file\u001b[49m\u001b[43m,\u001b[49m\n\u001b[32m     37\u001b[39m \u001b[43m        \u001b[49m\u001b[33;43m\"\u001b[39;49m\u001b[33;43mcollision_penalty\u001b[39;49m\u001b[33;43m\"\u001b[39;49m\u001b[43m:\u001b[49m\u001b[43m \u001b[49m\u001b[43mcollision_penalty\u001b[49m\u001b[43m[\u001b[49m\u001b[43mrun\u001b[49m\u001b[43m]\u001b[49m\u001b[43m,\u001b[49m\n\u001b[32m     38\u001b[39m \u001b[43m        \u001b[49m\u001b[33;43m\"\u001b[39;49m\u001b[33;43mwaiting_time_weight\u001b[39;49m\u001b[33;43m\"\u001b[39;49m\u001b[43m:\u001b[49m\u001b[43m \u001b[49m\u001b[43mwaiting_time_weight\u001b[49m\u001b[43m[\u001b[49m\u001b[43mrun\u001b[49m\u001b[43m]\u001b[49m\u001b[43m,\u001b[49m\n\u001b[32m     39\u001b[39m \u001b[43m        \u001b[49m\u001b[33;43m\"\u001b[39;49m\u001b[33;43memissions_weight\u001b[39;49m\u001b[33;43m\"\u001b[39;49m\u001b[43m:\u001b[49m\u001b[43m \u001b[49m\u001b[43memissions_weight\u001b[49m\u001b[43m[\u001b[49m\u001b[43mrun\u001b[49m\u001b[43m]\u001b[49m\u001b[43m,\u001b[49m\n\u001b[32m     40\u001b[39m \u001b[43m        \u001b[49m\u001b[33;43m\"\u001b[39;49m\u001b[33;43marchitecture\u001b[39;49m\u001b[33;43m\"\u001b[39;49m\u001b[43m:\u001b[49m\u001b[43m \u001b[49m\u001b[33;43m\"\u001b[39;49m\u001b[33;43mGenetic Algorithm\u001b[39;49m\u001b[33;43m\"\u001b[39;49m\u001b[43m,\u001b[49m\n\u001b[32m     41\u001b[39m \u001b[43m        \u001b[49m\u001b[33;43m\"\u001b[39;49m\u001b[33;43mpopulation_size\u001b[39;49m\u001b[33;43m\"\u001b[39;49m\u001b[43m:\u001b[49m\u001b[43m \u001b[49m\u001b[43mpop_size\u001b[49m\u001b[43m,\u001b[49m\n\u001b[32m     42\u001b[39m \u001b[43m        \u001b[49m\u001b[33;43m\"\u001b[39;49m\u001b[33;43mmax_generations\u001b[39;49m\u001b[33;43m\"\u001b[39;49m\u001b[43m:\u001b[49m\u001b[43mmax_generations\u001b[49m\u001b[43m,\u001b[49m\n\u001b[32m     43\u001b[39m \u001b[43m        \u001b[49m\u001b[33;43m\"\u001b[39;49m\u001b[33;43mn_survivors\u001b[39;49m\u001b[33;43m\"\u001b[39;49m\u001b[43m:\u001b[49m\u001b[43mn_survivors\u001b[49m\u001b[43m,\u001b[49m\n\u001b[32m     44\u001b[39m \u001b[43m        \u001b[49m\u001b[33;43m\"\u001b[39;49m\u001b[33;43mcrossover_rate\u001b[39;49m\u001b[33;43m\"\u001b[39;49m\u001b[43m:\u001b[49m\u001b[43mcrossover_rate\u001b[49m\u001b[43m,\u001b[49m\n\u001b[32m     45\u001b[39m \u001b[43m        \u001b[49m\u001b[33;43m\"\u001b[39;49m\u001b[33;43mduration_mutation_rate\u001b[39;49m\u001b[33;43m\"\u001b[39;49m\u001b[43m:\u001b[49m\u001b[43mduration_mutation_rate\u001b[49m\u001b[43m,\u001b[49m\n\u001b[32m     46\u001b[39m \u001b[43m        \u001b[49m\u001b[33;43m\"\u001b[39;49m\u001b[33;43mduration_mutation_strength\u001b[39;49m\u001b[33;43m\"\u001b[39;49m\u001b[43m:\u001b[49m\u001b[43mduration_mutation_strength\u001b[49m\u001b[43m,\u001b[49m\n\u001b[32m     47\u001b[39m \u001b[43m        \u001b[49m\u001b[33;43m\"\u001b[39;49m\u001b[33;43mstates_mutation_rate\u001b[39;49m\u001b[33;43m\"\u001b[39;49m\u001b[43m:\u001b[49m\u001b[43mstates_mutation_rate\u001b[49m\u001b[43m       \u001b[49m\n\u001b[32m     48\u001b[39m \u001b[43m      \u001b[49m\u001b[43m}\u001b[49m\n\u001b[32m     49\u001b[39m \u001b[43m    \u001b[49m\u001b[43m)\u001b[49m\n\u001b[32m     51\u001b[39m     \u001b[38;5;66;03m#Get Base chromosome\u001b[39;00m\n\u001b[32m     52\u001b[39m     chromosome_base = GA.get_chromosome()\n",
      "\u001b[36mFile \u001b[39m\u001b[32m~\\AppData\\Roaming\\Python\\Python313\\site-packages\\wandb\\sdk\\wandb_init.py:1482\u001b[39m, in \u001b[36minit\u001b[39m\u001b[34m(entity, project, dir, id, name, notes, tags, config, config_exclude_keys, config_include_keys, allow_val_change, group, job_type, mode, force, anonymous, reinit, resume, resume_from, fork_from, save_code, tensorboard, sync_tensorboard, monitor_gym, settings)\u001b[39m\n\u001b[32m   1478\u001b[39m     wl._get_logger().exception(\u001b[33m\"\u001b[39m\u001b[33merror in wandb.init()\u001b[39m\u001b[33m\"\u001b[39m, exc_info=e)\n\u001b[32m   1480\u001b[39m \u001b[38;5;66;03m# Need to build delay into this sentry capture because our exit hooks\u001b[39;00m\n\u001b[32m   1481\u001b[39m \u001b[38;5;66;03m# mess with sentry's ability to send out errors before the program ends.\u001b[39;00m\n\u001b[32m-> \u001b[39m\u001b[32m1482\u001b[39m \u001b[43mwandb\u001b[49m\u001b[43m.\u001b[49m\u001b[43m_sentry\u001b[49m\u001b[43m.\u001b[49m\u001b[43mreraise\u001b[49m\u001b[43m(\u001b[49m\u001b[43me\u001b[49m\u001b[43m)\u001b[49m\n\u001b[32m   1483\u001b[39m \u001b[38;5;28;01mraise\u001b[39;00m \u001b[38;5;167;01mAssertionError\u001b[39;00m()\n",
      "\u001b[36mFile \u001b[39m\u001b[32m~\\AppData\\Roaming\\Python\\Python313\\site-packages\\wandb\\analytics\\sentry.py:156\u001b[39m, in \u001b[36mSentry.reraise\u001b[39m\u001b[34m(self, exc)\u001b[39m\n\u001b[32m    153\u001b[39m \u001b[38;5;28mself\u001b[39m.exception(exc)\n\u001b[32m    154\u001b[39m \u001b[38;5;66;03m# this will messily add this \"reraise\" function to the stack trace,\u001b[39;00m\n\u001b[32m    155\u001b[39m \u001b[38;5;66;03m# but hopefully it's not too bad\u001b[39;00m\n\u001b[32m--> \u001b[39m\u001b[32m156\u001b[39m \u001b[38;5;28;01mraise\u001b[39;00m exc.with_traceback(sys.exc_info()[\u001b[32m2\u001b[39m])\n",
      "\u001b[36mFile \u001b[39m\u001b[32m~\\AppData\\Roaming\\Python\\Python313\\site-packages\\wandb\\sdk\\wandb_init.py:1468\u001b[39m, in \u001b[36minit\u001b[39m\u001b[34m(entity, project, dir, id, name, notes, tags, config, config_exclude_keys, config_include_keys, allow_val_change, group, job_type, mode, force, anonymous, reinit, resume, resume_from, fork_from, save_code, tensorboard, sync_tensorboard, monitor_gym, settings)\u001b[39m\n\u001b[32m   1465\u001b[39m     \u001b[38;5;28;01mif\u001b[39;00m run_settings.x_server_side_derived_summary:\n\u001b[32m   1466\u001b[39m         init_telemetry.feature.server_side_derived_summary = \u001b[38;5;28;01mTrue\u001b[39;00m\n\u001b[32m-> \u001b[39m\u001b[32m1468\u001b[39m     \u001b[38;5;28;01mreturn\u001b[39;00m \u001b[43mwi\u001b[49m\u001b[43m.\u001b[49m\u001b[43minit\u001b[49m\u001b[43m(\u001b[49m\u001b[43mrun_settings\u001b[49m\u001b[43m,\u001b[49m\u001b[43m \u001b[49m\u001b[43mrun_config\u001b[49m\u001b[43m)\u001b[49m\n\u001b[32m   1470\u001b[39m \u001b[38;5;28;01mexcept\u001b[39;00m \u001b[38;5;167;01mKeyboardInterrupt\u001b[39;00m \u001b[38;5;28;01mas\u001b[39;00m e:\n\u001b[32m   1471\u001b[39m     \u001b[38;5;28;01mif\u001b[39;00m wl:\n",
      "\u001b[36mFile \u001b[39m\u001b[32m~\\AppData\\Roaming\\Python\\Python313\\site-packages\\wandb\\sdk\\wandb_init.py:963\u001b[39m, in \u001b[36m_WandbInit.init\u001b[39m\u001b[34m(self, settings, config)\u001b[39m\n\u001b[32m    960\u001b[39m \u001b[38;5;28;01massert\u001b[39;00m result.run_result\n\u001b[32m    962\u001b[39m \u001b[38;5;28;01mif\u001b[39;00m error := ProtobufErrorHandler.to_exception(result.run_result.error):\n\u001b[32m--> \u001b[39m\u001b[32m963\u001b[39m     \u001b[38;5;28;01mraise\u001b[39;00m error\n\u001b[32m    965\u001b[39m \u001b[38;5;28;01mif\u001b[39;00m \u001b[38;5;129;01mnot\u001b[39;00m result.run_result.HasField(\u001b[33m\"\u001b[39m\u001b[33mrun\u001b[39m\u001b[33m\"\u001b[39m):\n\u001b[32m    966\u001b[39m     \u001b[38;5;28;01mraise\u001b[39;00m Error(\u001b[33m\"\u001b[39m\u001b[33mAssertion failed: run_result is missing the run field\u001b[39m\u001b[33m\"\u001b[39m)\n",
      "\u001b[31mCommError\u001b[39m: failed to upsert bucket: returned error 404: {\"data\":{\"upsertBucket\":null},\"errors\":[{\"message\":\"project not found\",\"path\":[\"upsertBucket\"]}]}"
     ]
    }
   ],
   "source": [
    "\n",
    "#SUMO parameters\n",
    "sumo_binary = checkBinary('sumo')\n",
    "sumo_binary_gui = checkBinary('sumo-gui')\n",
    "config_file = 'Manhattan5x3.sumocfg'\n",
    "\n",
    "pop_size = 5 # 12\n",
    "max_generations = 7  # 10\n",
    "n_survivors = 2 # 5\n",
    "\n",
    "#Mutation and Crossover parameters\n",
    "crossover_rate=0.5\n",
    "duration_mutation_rate=0.2\n",
    "duration_mutation_strength = 30  # Increase mutation strength\n",
    "states_mutation_rate = 0.3\n",
    "light_options = ['G', 'y', 'r']\n",
    "\n",
    "\n",
    "#Fitness Function parameters\n",
    "collision_penalty   = [400,4000,10000,400,4000]\n",
    "waiting_time_weight = [1/200, 3/200, 2/200, 5/200]\n",
    "emissions_weight    = [10/20000,5/2000,15/2000,0/2000]\n",
    "\n",
    "\n",
    "# Launch 5 simulated experiments\n",
    "total_runs = 2\n",
    "for run in range(total_runs):\n",
    "  # 🐝 1️⃣ Start a new run to track this script\n",
    "    wandb.init(\n",
    "      # Set the project where this run will be logged\n",
    "      project=\"Manhattan5x3_GA\", \n",
    "      entity=\"dharma\",\n",
    "      # We pass a run name (otherwise it’ll be randomly assigned, like sunshine-lollypop-10)\n",
    "      name=f\"GA_270321_{run}\",\n",
    "      # Track hyperparameters and run metadata\n",
    "      config={\n",
    "        \"config_file\":config_file,\n",
    "        \"collision_penalty\": collision_penalty[run],\n",
    "        \"waiting_time_weight\": waiting_time_weight[run],\n",
    "        \"emissions_weight\": emissions_weight[run],\n",
    "        \"architecture\": \"Genetic Algorithm\",\n",
    "        \"population_size\": pop_size,\n",
    "        \"max_generations\":max_generations,\n",
    "        \"n_survivors\":n_survivors,\n",
    "        \"crossover_rate\":crossover_rate,\n",
    "        \"duration_mutation_rate\":duration_mutation_rate,\n",
    "        \"duration_mutation_strength\":duration_mutation_strength,\n",
    "        \"states_mutation_rate\":states_mutation_rate       \n",
    "      }\n",
    "    )\n",
    "\n",
    "    #Get Base chromosome\n",
    "    chromosome_base = GA.get_chromosome()\n",
    "    GA_pop_next = GA.generate_random_population(chromosome_base)\n",
    "    current_gen = 0\n",
    "    #Generations=[]\n",
    "    \n",
    "    #Run GA\n",
    "    while(current_gen <max_generations):\n",
    "        GA_pop = GA_pop_next\n",
    "        \n",
    "        \n",
    "        ## Evaluating Population\n",
    "        fitness, emissions, waiting = GA_pop.evaluate_pop()\n",
    "        #Generations.append([GA_pop.generation,GA_pop.best_fitness,GA_pop.best_emissions,GA_pop.best_waiting_time,\n",
    "        #                    GA_pop.avg_fitness,GA_pop.avg_emissions,GA_pop.avg_waiting_time])\n",
    "\n",
    "        print(\"Best Fitness value in Generation \",current_gen, \" is \",GA_pop.best_fitness)\n",
    "\n",
    "        #Logging data to Weights and Biases\n",
    "        best_fitness = GA_pop.best_fitness\n",
    "        best_emissions = GA_pop.best_emissions\n",
    "        best_waiting_time = GA_pop.best_waiting_time\n",
    "        avg_fitness = GA_pop.avg_fitness\n",
    "        avg_emissions = GA_pop.avg_emissions\n",
    "        avg_waiting_time = GA_pop.avg_waiting_time\n",
    "\n",
    "        print(\"Logging info to WandB\")\n",
    "        wandb.log({\"best_fitness\":best_fitness,\"best_emissions\":best_emissions,\"best_waiting_time\":best_waiting_time,\n",
    "                   \"avg_fitness\":avg_fitness, \"avg_emissions\":avg_emissions,\"avg_waiting_time\":avg_waiting_time})\n",
    "        \n",
    "        \n",
    "        ## Visualize SUMO run\n",
    "        if current_gen // 5 == 0:\n",
    "            GA.visualize_SUMO(GA_pop.best_individual)\n",
    "        \n",
    "        #Calculating Survivors\n",
    "        sorted_pop = np.argsort(fitness)[:n_survivors]\n",
    "        Next_gene_pool = [GA_pop.gene_pool[idx] for idx in sorted_pop]\n",
    "        \n",
    "        #Creating new Generation\n",
    "        while len(Next_gene_pool) < pop_size:\n",
    "\n",
    "            chromosome_male =GA_pop.gene_pool[int(np.random.uniform(0,n_survivors))]\n",
    "            chromosome_female=GA_pop.gene_pool[int(np.random.uniform(0,n_survivors))]\n",
    "            chromosome_child = GA.crossover_parent(chromosome_male, chromosome_female,crossover_rate)\n",
    "            chromosome_child = GA.mutate_chromosome(chromosome_child,0.1,5,0.2)\n",
    "            Next_gene_pool.append(chromosome_child)\n",
    "\n",
    "        current_gen = current_gen+1\n",
    "        GA_pop_next = GA.population(current_gen)\n",
    "        GA_pop_next.gene_pool = Next_gene_pool\n",
    "\n",
    "    wandb.finish()"
   ]
  },
  {
   "cell_type": "code",
   "execution_count": 5,
   "id": "3252f607",
   "metadata": {},
   "outputs": [],
   "source": [
    "def get_best_light_timings(best_individual):\n",
    "    \"\"\"\n",
    "    Displays the traffic light timings (Red, Yellow, Green) for the best individual \n",
    "    in the population based on the genetic algorithm evaluation.\n",
    "    \n",
    "    :param best_individual: The best chromosome (individual) from the GA population\n",
    "    \"\"\"\n",
    "    for junction in best_individual:\n",
    "        ID = junction.ID\n",
    "        states = junction.states\n",
    "        durations = junction.durations\n",
    "        \n",
    "        print(f\"Traffic Light ID: {ID}\")\n",
    "        print(f\"{'State':<10} {'Duration (s)'}\")\n",
    "        print(\"-\" * 30)\n",
    "        \n",
    "        for state, duration in zip(states, durations):\n",
    "            print(f\"{state:<10} {duration}\")\n",
    "        \n",
    "        print(\"-\" * 30)\n",
    "        print(\"\\n\")\n"
   ]
  },
  {
   "cell_type": "code",
   "execution_count": null,
   "id": "ef2a38f1",
   "metadata": {
    "ExecuteTime": {
     "end_time": "2022-03-29T11:04:23.197260Z",
     "start_time": "2022-03-29T11:02:29.119328Z"
    }
   },
   "outputs": [
    {
     "ename": "NameError",
     "evalue": "name 'GA' is not defined",
     "output_type": "error",
     "traceback": [
      "\u001b[31m---------------------------------------------------------------------------\u001b[39m",
      "\u001b[31mNameError\u001b[39m                                 Traceback (most recent call last)",
      "\u001b[36mCell\u001b[39m\u001b[36m \u001b[39m\u001b[32mIn[4]\u001b[39m\u001b[32m, line 1\u001b[39m\n\u001b[32m----> \u001b[39m\u001b[32m1\u001b[39m \u001b[43mGA\u001b[49m.visualize_SUMO(GA_pop.best_individual)\n",
      "\u001b[31mNameError\u001b[39m: name 'GA' is not defined"
     ]
    }
   ],
   "source": [
    "GA.visualize_SUMO(GA_pop.best_individual)"
   ]
  }
 ],
 "metadata": {
  "kernelspec": {
   "display_name": "Python 3",
   "language": "python",
   "name": "python3"
  },
  "language_info": {
   "codemirror_mode": {
    "name": "ipython",
    "version": 3
   },
   "file_extension": ".py",
   "mimetype": "text/x-python",
   "name": "python",
   "nbconvert_exporter": "python",
   "pygments_lexer": "ipython3",
   "version": "3.13.2"
  },
  "toc": {
   "base_numbering": 1,
   "nav_menu": {},
   "number_sections": true,
   "sideBar": true,
   "skip_h1_title": true,
   "title_cell": "Table of Contents",
   "title_sidebar": "Contents",
   "toc_cell": false,
   "toc_position": {
    "height": "calc(100% - 180px)",
    "left": "10px",
    "top": "150px",
    "width": "168.825px"
   },
   "toc_section_display": true,
   "toc_window_display": true
  },
  "varInspector": {
   "cols": {
    "lenName": 16,
    "lenType": 16,
    "lenVar": 40
   },
   "kernels_config": {
    "python": {
     "delete_cmd_postfix": "",
     "delete_cmd_prefix": "del ",
     "library": "var_list.py",
     "varRefreshCmd": "print(var_dic_list())"
    },
    "r": {
     "delete_cmd_postfix": ") ",
     "delete_cmd_prefix": "rm(",
     "library": "var_list.r",
     "varRefreshCmd": "cat(var_dic_list()) "
    }
   },
   "types_to_exclude": [
    "module",
    "function",
    "builtin_function_or_method",
    "instance",
    "_Feature"
   ],
   "window_display": false
  }
 },
 "nbformat": 4,
 "nbformat_minor": 5
}
